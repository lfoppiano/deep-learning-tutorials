{
 "cells": [
  {
   "cell_type": "markdown",
   "metadata": {
    "colab_type": "text",
    "id": "kR-4eNdK6lYS"
   },
   "source": [
    "Deep Learning\n",
    "=============\n",
    "\n",
    "Assignment 3\n",
    "------------\n",
    "\n",
    "Previously in `2_fullyconnected.ipynb`, you trained a logistic regression and a neural network model.\n",
    "\n",
    "The goal of this assignment is to explore regularization techniques."
   ]
  },
  {
   "cell_type": "code",
   "execution_count": 1,
   "metadata": {
    "cellView": "both",
    "colab": {
     "autoexec": {
      "startup": false,
      "wait_interval": 0
     }
    },
    "colab_type": "code",
    "id": "JLpLa8Jt7Vu4"
   },
   "outputs": [],
   "source": [
    "# These are all the modules we'll be using later. Make sure you can import them\n",
    "# before proceeding further.\n",
    "from __future__ import print_function\n",
    "import numpy as np\n",
    "import tensorflow as tf\n",
    "from six.moves import cPickle as pickle"
   ]
  },
  {
   "cell_type": "markdown",
   "metadata": {
    "colab_type": "text",
    "id": "1HrCK6e17WzV"
   },
   "source": [
    "First reload the data we generated in `1_notmnist.ipynb`."
   ]
  },
  {
   "cell_type": "code",
   "execution_count": 2,
   "metadata": {
    "cellView": "both",
    "colab": {
     "autoexec": {
      "startup": false,
      "wait_interval": 0
     },
     "output_extras": [
      {
       "item_id": 1
      }
     ]
    },
    "colab_type": "code",
    "executionInfo": {
     "elapsed": 11777,
     "status": "ok",
     "timestamp": 1449849322348,
     "user": {
      "color": "",
      "displayName": "",
      "isAnonymous": false,
      "isMe": true,
      "permissionId": "",
      "photoUrl": "",
      "sessionId": "0",
      "userId": ""
     },
     "user_tz": 480
    },
    "id": "y3-cj1bpmuxc",
    "outputId": "e03576f1-ebbe-4838-c388-f1777bcc9873"
   },
   "outputs": [
    {
     "name": "stdout",
     "output_type": "stream",
     "text": [
      "Training set (200000, 28, 28) (200000,)\n",
      "Validation set (10000, 28, 28) (10000,)\n",
      "Test set (10000, 28, 28) (10000,)\n"
     ]
    }
   ],
   "source": [
    "pickle_file = 'notMNIST.pickle'\n",
    "\n",
    "with open(pickle_file, 'rb') as f:\n",
    "  save = pickle.load(f)\n",
    "  train_dataset = save['train_dataset']\n",
    "  train_labels = save['train_labels']\n",
    "  valid_dataset = save['valid_dataset']\n",
    "  valid_labels = save['valid_labels']\n",
    "  test_dataset = save['test_dataset']\n",
    "  test_labels = save['test_labels']\n",
    "  del save  # hint to help gc free up memory\n",
    "  print('Training set', train_dataset.shape, train_labels.shape)\n",
    "  print('Validation set', valid_dataset.shape, valid_labels.shape)\n",
    "  print('Test set', test_dataset.shape, test_labels.shape)"
   ]
  },
  {
   "cell_type": "markdown",
   "metadata": {
    "colab_type": "text",
    "id": "L7aHrm6nGDMB"
   },
   "source": [
    "Reformat into a shape that's more adapted to the models we're going to train:\n",
    "- data as a flat matrix,\n",
    "- labels as float 1-hot encodings."
   ]
  },
  {
   "cell_type": "code",
   "execution_count": 3,
   "metadata": {
    "cellView": "both",
    "colab": {
     "autoexec": {
      "startup": false,
      "wait_interval": 0
     },
     "output_extras": [
      {
       "item_id": 1
      }
     ]
    },
    "colab_type": "code",
    "executionInfo": {
     "elapsed": 11728,
     "status": "ok",
     "timestamp": 1449849322356,
     "user": {
      "color": "",
      "displayName": "",
      "isAnonymous": false,
      "isMe": true,
      "permissionId": "",
      "photoUrl": "",
      "sessionId": "0",
      "userId": ""
     },
     "user_tz": 480
    },
    "id": "IRSyYiIIGIzS",
    "outputId": "3f8996ee-3574-4f44-c953-5c8a04636582"
   },
   "outputs": [
    {
     "name": "stdout",
     "output_type": "stream",
     "text": [
      "Training set (200000, 784) (200000, 10)\n",
      "Validation set (10000, 784) (10000, 10)\n",
      "Test set (10000, 784) (10000, 10)\n"
     ]
    }
   ],
   "source": [
    "image_size = 28\n",
    "num_labels = 10\n",
    "\n",
    "def reformat(dataset, labels):\n",
    "  dataset = dataset.reshape((-1, image_size * image_size)).astype(np.float32)\n",
    "  # Map 1 to [0.0, 1.0, 0.0 ...], 2 to [0.0, 0.0, 1.0 ...]\n",
    "  labels = (np.arange(num_labels) == labels[:,None]).astype(np.float32)\n",
    "  return dataset, labels\n",
    "train_dataset, train_labels = reformat(train_dataset, train_labels)\n",
    "valid_dataset, valid_labels = reformat(valid_dataset, valid_labels)\n",
    "test_dataset, test_labels = reformat(test_dataset, test_labels)\n",
    "print('Training set', train_dataset.shape, train_labels.shape)\n",
    "print('Validation set', valid_dataset.shape, valid_labels.shape)\n",
    "print('Test set', test_dataset.shape, test_labels.shape)"
   ]
  },
  {
   "cell_type": "code",
   "execution_count": 4,
   "metadata": {
    "cellView": "both",
    "colab": {
     "autoexec": {
      "startup": false,
      "wait_interval": 0
     }
    },
    "colab_type": "code",
    "id": "RajPLaL_ZW6w"
   },
   "outputs": [],
   "source": [
    "def accuracy(predictions, labels):\n",
    "  return (100.0 * np.sum(np.argmax(predictions, 1) == np.argmax(labels, 1))\n",
    "          / predictions.shape[0])"
   ]
  },
  {
   "cell_type": "markdown",
   "metadata": {
    "colab_type": "text",
    "id": "sgLbUAQ1CW-1"
   },
   "source": [
    "---\n",
    "Problem 1\n",
    "---------\n",
    "\n",
    "Introduce and tune L2 regularization for both logistic and neural network models. Remember that L2 amounts to adding a penalty on the norm of the weights to the loss. In TensorFlow, you can compute the L2 loss for a tensor `t` using `nn.l2_loss(t)`. The right amount of regularization should improve your validation / test accuracy.\n",
    "\n",
    "---"
   ]
  },
  {
   "cell_type": "markdown",
   "metadata": {},
   "source": [
    "Logistic regression \n",
    "--------"
   ]
  },
  {
   "cell_type": "code",
   "execution_count": 5,
   "metadata": {},
   "outputs": [],
   "source": [
    "# With gradient descent training, even this much data is prohibitive.\n",
    "# Subset the training data for faster turnaround.\n",
    "train_subset = 10000\n",
    "\n",
    "graph = tf.Graph()\n",
    "with graph.as_default():\n",
    "\n",
    "  # Input data.\n",
    "  # Load the training, validation and test data into constants that are\n",
    "  # attached to the graph.\n",
    "  tf_train_dataset = tf.constant(train_dataset[:train_subset, :])\n",
    "  tf_train_labels = tf.constant(train_labels[:train_subset])\n",
    "  tf_valid_dataset = tf.constant(valid_dataset)\n",
    "  tf_test_dataset = tf.constant(test_dataset)\n",
    "  \n",
    "  # Variables.\n",
    "  # These are the parameters that we are going to be training. The weight\n",
    "  # matrix will be initialized using random values following a (truncated)\n",
    "  # normal distribution. The biases get initialized to zero.\n",
    "  weights = tf.Variable(\n",
    "    tf.truncated_normal([image_size * image_size, num_labels]))\n",
    "  biases = tf.Variable(tf.zeros([num_labels]))\n",
    "  \n",
    "  # Training computation.\n",
    "  # We multiply the inputs with the weight matrix, and add biases. We compute\n",
    "  # the softmax and cross-entropy (it's one operation in TensorFlow, because\n",
    "  # it's very common, and it can be optimized). We take the average of this\n",
    "  # cross-entropy across all training examples: that's our loss.\n",
    "  logits = tf.matmul(tf_train_dataset, weights) + biases\n",
    "  loss = tf.reduce_mean(\n",
    "    tf.nn.softmax_cross_entropy_with_logits_v2(labels=tf_train_labels, logits=logits)) + 0.005*tf.nn.l2_loss(weights)\n",
    "  \n",
    "  # Optimizer.\n",
    "  # We are going to find the minimum of this loss using gradient descent.\n",
    "  optimizer = tf.train.GradientDescentOptimizer(0.5).minimize(loss)\n",
    "  \n",
    "  # Predictions for the training, validation, and test data.\n",
    "  # These are not part of training, but merely here so that we can report\n",
    "  # accuracy figures as we train.\n",
    "  train_prediction = tf.nn.softmax(logits)\n",
    "  valid_prediction = tf.nn.softmax(\n",
    "    tf.matmul(tf_valid_dataset, weights) + biases)\n",
    "  test_prediction = tf.nn.softmax(tf.matmul(tf_test_dataset, weights) + biases)"
   ]
  },
  {
   "cell_type": "code",
   "execution_count": 6,
   "metadata": {},
   "outputs": [
    {
     "name": "stdout",
     "output_type": "stream",
     "text": [
      "Initialized\n",
      "Loss at step 0: 32.089516\n",
      "Training accuracy: 6.0%\n",
      "Validation accuracy: 7.5%\n",
      "Loss at step 100: 10.218693\n",
      "Training accuracy: 72.5%\n",
      "Validation accuracy: 71.4%\n",
      "Loss at step 200: 6.058825\n",
      "Training accuracy: 76.4%\n",
      "Validation accuracy: 74.5%\n",
      "Loss at step 300: 3.725961\n",
      "Training accuracy: 79.1%\n",
      "Validation accuracy: 76.5%\n",
      "Loss at step 400: 2.403807\n",
      "Training accuracy: 80.8%\n",
      "Validation accuracy: 78.4%\n",
      "Loss at step 500: 1.652876\n",
      "Training accuracy: 82.6%\n",
      "Validation accuracy: 79.8%\n",
      "Loss at step 600: 1.224249\n",
      "Training accuracy: 83.7%\n",
      "Validation accuracy: 80.8%\n",
      "Loss at step 700: 0.978119\n",
      "Training accuracy: 84.3%\n",
      "Validation accuracy: 81.3%\n",
      "Loss at step 800: 0.835962\n",
      "Training accuracy: 84.7%\n",
      "Validation accuracy: 81.8%\n",
      "Test accuracy: 88.2%\n"
     ]
    }
   ],
   "source": [
    "num_steps = 801\n",
    "\n",
    "def accuracy(predictions, labels):\n",
    "  return (100.0 * np.sum(np.argmax(predictions, 1) == np.argmax(labels, 1))\n",
    "          / predictions.shape[0])\n",
    "\n",
    "with tf.Session(graph=graph) as session:\n",
    "  # This is a one-time operation which ensures the parameters get initialized as\n",
    "  # we described in the graph: random weights for the matrix, zeros for the\n",
    "  # biases. \n",
    "  tf.global_variables_initializer().run()\n",
    "  print('Initialized')\n",
    "  for step in range(num_steps):\n",
    "    # Run the computations. We tell .run() that we want to run the optimizer,\n",
    "    # and get the loss value and the training predictions returned as numpy\n",
    "    # arrays.\n",
    "\n",
    "    _, l, predictions = session.run([optimizer, loss, train_prediction])\n",
    "    if (step % 100 == 0):\n",
    "      print('Loss at step %d: %f' % (step, l))\n",
    "      print('Training accuracy: %.1f%%' % accuracy(\n",
    "        predictions, train_labels[:train_subset, :]))\n",
    "      # Calling .eval() on valid_prediction is basically like calling run(), but\n",
    "      # just to get that one numpy array. Note that it recomputes all its graph\n",
    "      # dependencies.\n",
    "      print('Validation accuracy: %.1f%%' % accuracy(\n",
    "        valid_prediction.eval(), valid_labels))\n",
    "  print('Test accuracy: %.1f%%' % accuracy(test_prediction.eval(), test_labels))"
   ]
  },
  {
   "cell_type": "markdown",
   "metadata": {},
   "source": [
    "Neural network\n",
    "--------"
   ]
  },
  {
   "cell_type": "markdown",
   "metadata": {},
   "source": [
    "#### light version \n"
   ]
  },
  {
   "cell_type": "code",
   "execution_count": 7,
   "metadata": {},
   "outputs": [
    {
     "name": "stdout",
     "output_type": "stream",
     "text": [
      "WARNING:tensorflow:From <ipython-input-7-c67e244a1df7>:27: softmax_cross_entropy_with_logits (from tensorflow.python.ops.nn_ops) is deprecated and will be removed in a future version.\n",
      "Instructions for updating:\n",
      "\n",
      "Future major versions of TensorFlow will allow gradients to flow\n",
      "into the labels input on backprop by default.\n",
      "\n",
      "See `tf.nn.softmax_cross_entropy_with_logits_v2`.\n",
      "\n"
     ]
    }
   ],
   "source": [
    "batch_size = 128\n",
    "hidden_layers_size = 1024\n",
    "\n",
    "graph = tf.Graph()\n",
    "with graph.as_default():\n",
    "    # Input data. For the training data, we use a placeholder that will be fed\n",
    "    # at run time with a training minibatch.\n",
    "    tf_train_dataset = tf.placeholder(tf.float32,\n",
    "                                      shape=(batch_size, image_size * image_size))\n",
    "    tf_train_labels = tf.placeholder(tf.float32, shape=(batch_size, num_labels))\n",
    "    tf_valid_dataset = tf.constant(valid_dataset)\n",
    "    tf_test_dataset = tf.constant(test_dataset)\n",
    "    \n",
    "    weights = tf.Variable(tf.truncated_normal([hidden_layers_size, num_labels]))\n",
    "    biases = tf.Variable(tf.zeros([num_labels]))\n",
    "    \n",
    "    hidden_weights = tf.Variable(tf.truncated_normal([image_size * image_size, hidden_layers_size]))\n",
    "    hidden_biases = tf.Variable(tf.truncated_normal([hidden_layers_size]))\n",
    "    \n",
    "    logit_hidden = tf.matmul(tf_train_dataset, hidden_weights) + hidden_biases\n",
    "    \n",
    "    logit = tf.matmul(tf.nn.relu(logit_hidden), weights) + biases\n",
    "\n",
    "    # Training computation.\n",
    "    loss = tf.reduce_mean(\n",
    "        tf.nn.softmax_cross_entropy_with_logits(labels=tf_train_labels, logits=logit)) \\\n",
    "            + 0.01*tf.nn.l2_loss(weights) + 0.01*tf.nn.l2_loss(hidden_weights) \n",
    "\n",
    "    # Optimizer.\n",
    "    optimizer = tf.train.GradientDescentOptimizer(0.1).minimize(loss)\n",
    "\n",
    "    # Predictions for the training, validation, and test data.\n",
    "    train_prediction = tf.nn.softmax(logit)\n",
    "    valid_prediction = tf.nn.softmax(tf.matmul(tf.nn.relu(tf.matmul(tf_valid_dataset, hidden_weights) + hidden_biases), weights) + biases)\n",
    "    test_prediction = tf.nn.softmax(tf.matmul(tf.nn.relu(tf.matmul(tf_test_dataset, hidden_weights) + hidden_biases), weights) + biases)\n"
   ]
  },
  {
   "cell_type": "code",
   "execution_count": 8,
   "metadata": {},
   "outputs": [
    {
     "name": "stdout",
     "output_type": "stream",
     "text": [
      "Initialized\n",
      "Minibatch loss at step 0: 3455.834473\n",
      "Minibatch accuracy: 9.4%\n",
      "Validation accuracy: 28.6%\n",
      "Minibatch loss at step 500: 1153.414062\n",
      "Minibatch accuracy: 80.5%\n",
      "Validation accuracy: 80.5%\n",
      "Minibatch loss at step 1000: 420.994598\n",
      "Minibatch accuracy: 78.9%\n",
      "Validation accuracy: 83.1%\n",
      "Minibatch loss at step 1500: 154.637970\n",
      "Minibatch accuracy: 82.0%\n",
      "Validation accuracy: 83.0%\n",
      "Minibatch loss at step 2000: 56.985916\n",
      "Minibatch accuracy: 90.6%\n",
      "Validation accuracy: 85.5%\n",
      "Minibatch loss at step 2500: 21.457926\n",
      "Minibatch accuracy: 85.2%\n",
      "Validation accuracy: 85.6%\n",
      "Minibatch loss at step 3000: 8.311604\n",
      "Minibatch accuracy: 85.9%\n",
      "Validation accuracy: 84.9%\n",
      "Test accuracy: 90.9%\n"
     ]
    }
   ],
   "source": [
    "num_steps = 3001\n",
    "\n",
    "with tf.Session(graph=graph) as session:\n",
    "    tf.global_variables_initializer().run()\n",
    "    print(\"Initialized\")\n",
    "    for step in range(num_steps):\n",
    "        # Pick an offset within the training data, which has been randomized.\n",
    "        # Note: we could use better randomization across epochs.\n",
    "        offset = (step * batch_size) % (train_labels.shape[0] - batch_size)\n",
    "        # Generate a minibatch.\n",
    "        batch_data = train_dataset[offset:(offset + batch_size), :]\n",
    "        batch_labels = train_labels[offset:(offset + batch_size), :]\n",
    "        \n",
    "        # Prepare a dictionary telling the session where to feed the minibatch.\n",
    "        # The key of the dictionary is the placeholder node of the graph to be fed,\n",
    "        # and the value is the numpy array to feed to it.\n",
    "        feed_dict = {tf_train_dataset: batch_data, tf_train_labels: batch_labels}\n",
    "        _, l, predictions = session.run([optimizer, loss, train_prediction], feed_dict=feed_dict)\n",
    "        \n",
    "        if (step % 500 == 0):\n",
    "            print(\"Minibatch loss at step %d: %f\" % (step, l))\n",
    "            print(\"Minibatch accuracy: %.1f%%\" % accuracy(predictions, batch_labels))\n",
    "            print(\"Validation accuracy: %.1f%%\" % accuracy(valid_prediction.eval(), valid_labels))\n",
    "    print(\"Test accuracy: %.1f%%\" % accuracy(test_prediction.eval(), test_labels))\n"
   ]
  },
  {
   "cell_type": "markdown",
   "metadata": {},
   "source": [
    "#### heavy version "
   ]
  },
  {
   "cell_type": "code",
   "execution_count": 9,
   "metadata": {},
   "outputs": [
    {
     "name": "stdout",
     "output_type": "stream",
     "text": [
      "Initialized\n",
      "Minibatch loss at step 0: 3207.163086\n",
      "Minibatch accuracy: 7.0%\n",
      "Validation accuracy: 11.3%\n",
      "Minibatch loss at step 500: 491.204132\n",
      "Minibatch accuracy: 68.0%\n",
      "Validation accuracy: 62.4%\n",
      "Minibatch loss at step 1000: 462.785706\n",
      "Minibatch accuracy: 62.5%\n",
      "Validation accuracy: 68.3%\n",
      "Minibatch loss at step 1500: 407.531677\n",
      "Minibatch accuracy: 66.4%\n",
      "Validation accuracy: 70.7%\n",
      "Minibatch loss at step 2000: 306.460388\n",
      "Minibatch accuracy: 72.7%\n",
      "Validation accuracy: 72.2%\n",
      "Minibatch loss at step 2500: 259.700500\n",
      "Minibatch accuracy: 68.0%\n",
      "Validation accuracy: 72.9%\n",
      "Minibatch loss at step 3000: 210.849869\n",
      "Minibatch accuracy: 80.5%\n",
      "Validation accuracy: 73.1%\n",
      "Minibatch loss at step 3500: 200.881149\n",
      "Minibatch accuracy: 78.1%\n",
      "Validation accuracy: 73.8%\n",
      "Minibatch loss at step 4000: 216.758636\n",
      "Minibatch accuracy: 70.3%\n",
      "Validation accuracy: 74.1%\n",
      "Minibatch loss at step 4500: 149.833206\n",
      "Minibatch accuracy: 78.9%\n",
      "Validation accuracy: 74.5%\n",
      "Minibatch loss at step 5000: 128.024689\n",
      "Minibatch accuracy: 78.9%\n",
      "Validation accuracy: 74.9%\n",
      "Minibatch loss at step 5500: 147.132080\n",
      "Minibatch accuracy: 74.2%\n",
      "Validation accuracy: 74.8%\n",
      "Minibatch loss at step 6000: 169.690186\n",
      "Minibatch accuracy: 68.0%\n",
      "Validation accuracy: 75.3%\n",
      "Minibatch loss at step 6500: 159.291473\n",
      "Minibatch accuracy: 73.4%\n",
      "Validation accuracy: 75.3%\n",
      "Minibatch loss at step 7000: 135.251389\n",
      "Minibatch accuracy: 69.5%\n",
      "Validation accuracy: 75.2%\n",
      "Minibatch loss at step 7500: 92.920013\n",
      "Minibatch accuracy: 77.3%\n",
      "Validation accuracy: 75.5%\n",
      "Minibatch loss at step 8000: 94.080551\n",
      "Minibatch accuracy: 69.5%\n",
      "Validation accuracy: 75.5%\n",
      "Minibatch loss at step 8500: 110.534317\n",
      "Minibatch accuracy: 69.5%\n",
      "Validation accuracy: 75.8%\n",
      "Minibatch loss at step 9000: 68.904922\n",
      "Minibatch accuracy: 74.2%\n",
      "Validation accuracy: 75.5%\n",
      "Minibatch loss at step 9500: 42.132080\n",
      "Minibatch accuracy: 73.4%\n",
      "Validation accuracy: 75.7%\n",
      "Minibatch loss at step 10000: 67.950058\n",
      "Minibatch accuracy: 72.7%\n",
      "Validation accuracy: 75.9%\n",
      "Minibatch loss at step 10500: 40.452705\n",
      "Minibatch accuracy: 75.8%\n",
      "Validation accuracy: 75.8%\n",
      "Minibatch loss at step 11000: 44.474861\n",
      "Minibatch accuracy: 74.2%\n",
      "Validation accuracy: 75.8%\n",
      "Minibatch loss at step 11500: 24.973392\n",
      "Minibatch accuracy: 78.9%\n",
      "Validation accuracy: 75.3%\n",
      "Minibatch loss at step 12000: 33.590271\n",
      "Minibatch accuracy: 73.4%\n",
      "Validation accuracy: 75.6%\n",
      "Minibatch loss at step 12500: 22.246246\n",
      "Minibatch accuracy: 76.6%\n",
      "Validation accuracy: 75.7%\n",
      "Minibatch loss at step 13000: 30.704380\n",
      "Minibatch accuracy: 75.0%\n",
      "Validation accuracy: 75.2%\n",
      "Minibatch loss at step 13500: 14.869107\n",
      "Minibatch accuracy: 75.8%\n",
      "Validation accuracy: 74.6%\n",
      "Minibatch loss at step 14000: 11.955366\n",
      "Minibatch accuracy: 78.1%\n",
      "Validation accuracy: 74.1%\n",
      "Minibatch loss at step 14500: 9.830492\n",
      "Minibatch accuracy: 75.0%\n",
      "Validation accuracy: 74.2%\n",
      "Minibatch loss at step 15000: 9.427507\n",
      "Minibatch accuracy: 68.0%\n",
      "Validation accuracy: 73.9%\n",
      "Minibatch loss at step 15500: 9.595367\n",
      "Minibatch accuracy: 67.2%\n",
      "Validation accuracy: 71.1%\n",
      "Minibatch loss at step 16000: 3.636684\n",
      "Minibatch accuracy: 82.8%\n",
      "Validation accuracy: 73.9%\n",
      "Minibatch loss at step 16500: 9.556391\n",
      "Minibatch accuracy: 75.8%\n",
      "Validation accuracy: 72.7%\n",
      "Minibatch loss at step 17000: 7.030361\n",
      "Minibatch accuracy: 64.8%\n",
      "Validation accuracy: 67.9%\n",
      "Minibatch loss at step 17500: 3.106899\n",
      "Minibatch accuracy: 78.1%\n",
      "Validation accuracy: 74.1%\n",
      "Minibatch loss at step 18000: 6.066038\n",
      "Minibatch accuracy: 71.9%\n",
      "Validation accuracy: 73.7%\n",
      "Minibatch loss at step 18500: 11.026659\n",
      "Minibatch accuracy: 53.1%\n",
      "Validation accuracy: 65.4%\n",
      "Minibatch loss at step 19000: 3.835306\n",
      "Minibatch accuracy: 73.4%\n",
      "Validation accuracy: 66.3%\n",
      "Minibatch loss at step 19500: 6.011212\n",
      "Minibatch accuracy: 73.4%\n",
      "Validation accuracy: 75.3%\n",
      "Minibatch loss at step 20000: 7.251672\n",
      "Minibatch accuracy: 70.3%\n",
      "Validation accuracy: 69.2%\n",
      "Minibatch loss at step 20500: 3.876234\n",
      "Minibatch accuracy: 78.1%\n",
      "Validation accuracy: 71.0%\n",
      "Minibatch loss at step 21000: 4.367784\n",
      "Minibatch accuracy: 70.3%\n",
      "Validation accuracy: 72.9%\n",
      "Minibatch loss at step 21500: 4.836040\n",
      "Minibatch accuracy: 75.0%\n",
      "Validation accuracy: 74.6%\n",
      "Minibatch loss at step 22000: 4.583938\n",
      "Minibatch accuracy: 73.4%\n",
      "Validation accuracy: 74.6%\n",
      "Minibatch loss at step 22500: 4.653554\n",
      "Minibatch accuracy: 72.7%\n",
      "Validation accuracy: 69.0%\n",
      "Minibatch loss at step 23000: 7.595078\n",
      "Minibatch accuracy: 63.3%\n",
      "Validation accuracy: 68.5%\n",
      "Minibatch loss at step 23500: 4.591667\n",
      "Minibatch accuracy: 71.9%\n",
      "Validation accuracy: 71.2%\n",
      "Minibatch loss at step 24000: 9.932304\n",
      "Minibatch accuracy: 63.3%\n",
      "Validation accuracy: 70.1%\n",
      "Minibatch loss at step 24500: 7.224687\n",
      "Minibatch accuracy: 71.9%\n",
      "Validation accuracy: 70.5%\n",
      "Minibatch loss at step 25000: 6.280167\n",
      "Minibatch accuracy: 72.7%\n",
      "Validation accuracy: 67.3%\n",
      "Minibatch loss at step 25500: 3.570599\n",
      "Minibatch accuracy: 77.3%\n",
      "Validation accuracy: 71.3%\n",
      "Minibatch loss at step 26000: 9.381119\n",
      "Minibatch accuracy: 70.3%\n",
      "Validation accuracy: 75.3%\n",
      "Minibatch loss at step 26500: 4.820500\n",
      "Minibatch accuracy: 77.3%\n",
      "Validation accuracy: 70.8%\n",
      "Minibatch loss at step 27000: 4.857056\n",
      "Minibatch accuracy: 75.8%\n",
      "Validation accuracy: 74.0%\n",
      "Minibatch loss at step 27500: 4.960545\n",
      "Minibatch accuracy: 72.7%\n",
      "Validation accuracy: 69.7%\n",
      "Minibatch loss at step 28000: 5.932004\n",
      "Minibatch accuracy: 71.1%\n",
      "Validation accuracy: 70.6%\n",
      "Minibatch loss at step 28500: 4.323061\n",
      "Minibatch accuracy: 75.8%\n",
      "Validation accuracy: 74.6%\n",
      "Minibatch loss at step 29000: 3.468691\n",
      "Minibatch accuracy: 73.4%\n",
      "Validation accuracy: 72.5%\n",
      "Minibatch loss at step 29500: 4.629012\n",
      "Minibatch accuracy: 74.2%\n",
      "Validation accuracy: 72.9%\n",
      "Minibatch loss at step 30000: 3.447636\n",
      "Minibatch accuracy: 76.6%\n",
      "Validation accuracy: 74.0%\n",
      "Test accuracy: 81.3%\n"
     ]
    }
   ],
   "source": [
    "batch_size = 128\n",
    "hidden_layers_size = 1024\n",
    "\n",
    "graph = tf.Graph()\n",
    "with graph.as_default():\n",
    "    # Input data. For the training data, we use a placeholder that will be fed\n",
    "    # at run time with a training minibatch.\n",
    "    tf_train_dataset = tf.placeholder(tf.float32,\n",
    "                                      shape=(batch_size, image_size * image_size))\n",
    "    tf_train_labels = tf.placeholder(tf.float32, shape=(batch_size, num_labels))\n",
    "    tf_valid_dataset = tf.constant(valid_dataset)\n",
    "    tf_test_dataset = tf.constant(test_dataset)\n",
    "    \n",
    "    input_weights = tf.Variable(tf.truncated_normal([image_size * image_size, batch_size]))\n",
    "    input_biases = tf.Variable(tf.truncated_normal([batch_size]))\n",
    "     \n",
    "    hidden_weights = tf.Variable(tf.truncated_normal([batch_size, hidden_layers_size]))\n",
    "    hidden_biases = tf.Variable(tf.truncated_normal([hidden_layers_size]))\n",
    "    \n",
    "    output_weights = tf.Variable(tf.truncated_normal([hidden_layers_size, num_labels]))\n",
    "    output_biases = tf.Variable(tf.zeros([num_labels]))\n",
    "\n",
    "    \n",
    "    def network(input): \n",
    "        logit_input = tf.matmul(input, input_weights) + input_biases\n",
    "        logit_hidden = tf.matmul(tf.nn.relu(logit_input), hidden_weights) + hidden_biases    \n",
    "        logit_output = tf.matmul(logit_hidden, output_weights) + output_biases\n",
    "        \n",
    "        return logit_output + 0.01*tf.nn.l2_loss(input_weights) + 0.01*tf.nn.l2_loss(hidden_weights) \\\n",
    "                + 0.01*tf.nn.l2_loss(output_weights)\n",
    "\n",
    "    # Training computation.\n",
    "    predictions = network(tf_train_dataset)\n",
    "    loss = tf.reduce_mean(\n",
    "        tf.nn.softmax_cross_entropy_with_logits(labels=tf_train_labels, logits=predictions))\n",
    "\n",
    "    # Optimizer.\n",
    "    optimizer = tf.train.GradientDescentOptimizer(0.0001).minimize(loss)\n",
    "\n",
    "    # Predictions for the training, validation, and test data.\n",
    "    train_prediction = tf.nn.softmax(predictions)\n",
    "    valid_prediction = tf.nn.softmax(network(tf_valid_dataset))\n",
    "    test_prediction = tf.nn.softmax(network(tf_test_dataset))\n",
    "\n",
    "num_steps = 30001\n",
    "\n",
    "with tf.Session(graph=graph) as session:\n",
    "    tf.global_variables_initializer().run()\n",
    "    print(\"Initialized\")\n",
    "    for step in range(num_steps):\n",
    "        # Pick an offset within the training data, which has been randomized.\n",
    "        # Note: we could use better randomization across epochs.\n",
    "        offset = (step * batch_size) % (train_labels.shape[0] - batch_size)\n",
    "        # Generate a minibatch.\n",
    "        batch_data = train_dataset[offset:(offset + batch_size), :]\n",
    "        batch_labels = train_labels[offset:(offset + batch_size), :]\n",
    "        \n",
    "        # Prepare a dictionary telling the session where to feed the minibatch.\n",
    "        # The key of the dictionary is the placeholder node of the graph to be fed,\n",
    "        # and the value is the numpy array to feed to it.\n",
    "        feed_dict = {tf_train_dataset: batch_data, tf_train_labels: batch_labels}\n",
    "        _, l, predictions = session.run([optimizer, loss, train_prediction], feed_dict=feed_dict)\n",
    "        \n",
    "        if (step % 500 == 0):\n",
    "            print(\"Minibatch loss at step %d: %f\" % (step, l))\n",
    "            print(\"Minibatch accuracy: %.1f%%\" % accuracy(predictions, batch_labels))\n",
    "            print(\"Validation accuracy: %.1f%%\" % accuracy(valid_prediction.eval(), valid_labels))\n",
    "    print(\"Test accuracy: %.1f%%\" % accuracy(test_prediction.eval(), test_labels))\n",
    "\n",
    "    "
   ]
  },
  {
   "cell_type": "markdown",
   "metadata": {
    "colab_type": "text",
    "id": "na8xX2yHZzNF"
   },
   "source": [
    "---\n",
    "Problem 2\n",
    "---------\n",
    "Let's demonstrate an extreme case of overfitting. Restrict your training data to just a few batches. What happens?\n",
    "\n",
    "---"
   ]
  },
  {
   "cell_type": "code",
   "execution_count": 10,
   "metadata": {},
   "outputs": [
    {
     "name": "stdout",
     "output_type": "stream",
     "text": [
      "(200000, 784)\n",
      "(200000, 10)\n",
      "(256, 784)\n",
      "(200000, 10)\n",
      "Initialized\n",
      "Minibatch loss at step 0: 3573.129883\n",
      "Minibatch accuracy: 5.5%\n",
      "Validation accuracy: 26.2%\n",
      "Minibatch loss at step 500: 1155.576904\n",
      "Minibatch accuracy: 100.0%\n",
      "Validation accuracy: 60.5%\n",
      "Minibatch loss at step 1000: 424.900757\n",
      "Minibatch accuracy: 100.0%\n",
      "Validation accuracy: 60.1%\n",
      "Minibatch loss at step 1500: 156.236404\n",
      "Minibatch accuracy: 100.0%\n",
      "Validation accuracy: 60.8%\n",
      "Minibatch loss at step 2000: 57.461372\n",
      "Minibatch accuracy: 100.0%\n",
      "Validation accuracy: 63.3%\n",
      "Minibatch loss at step 2500: 21.179602\n",
      "Minibatch accuracy: 100.0%\n",
      "Validation accuracy: 67.9%\n",
      "Minibatch loss at step 3000: 7.877769\n",
      "Minibatch accuracy: 100.0%\n",
      "Validation accuracy: 69.4%\n",
      "Test accuracy: 76.2%\n"
     ]
    }
   ],
   "source": [
    "print(train_dataset.shape)\n",
    "print(train_labels.shape)\n",
    "train_dataset1 = train_dataset[:256, :]\n",
    "train_labels1 = train_labels[:256, :]\n",
    "print(train_dataset1.shape)\n",
    "print(train_labels.shape)\n",
    "\n",
    "\n",
    "batch_size = 128\n",
    "hidden_layers_size = 1024\n",
    "\n",
    "graph = tf.Graph()\n",
    "with graph.as_default():\n",
    "    # Input data. For the training data, we use a placeholder that will be fed\n",
    "    # at run time with a training minibatch.\n",
    "    tf_train_dataset = tf.placeholder(tf.float32,\n",
    "                                      shape=(batch_size, image_size * image_size))\n",
    "    tf_train_labels = tf.placeholder(tf.float32, shape=(batch_size, num_labels))\n",
    "    tf_valid_dataset = tf.constant(valid_dataset)\n",
    "    tf_test_dataset = tf.constant(test_dataset)\n",
    "    \n",
    "    weights = tf.Variable(tf.truncated_normal([hidden_layers_size, num_labels]))\n",
    "    biases = tf.Variable(tf.zeros([num_labels]))\n",
    "    \n",
    "    hidden_weights = tf.Variable(tf.truncated_normal([image_size * image_size, hidden_layers_size]))\n",
    "    hidden_biases = tf.Variable(tf.truncated_normal([hidden_layers_size]))\n",
    "    \n",
    "    logit_hidden = tf.matmul(tf_train_dataset, hidden_weights) + hidden_biases\n",
    "    \n",
    "    logit = tf.matmul(tf.nn.relu(logit_hidden), weights) + biases\n",
    "\n",
    "    # Training computation.\n",
    "    loss = tf.reduce_mean(\n",
    "        tf.nn.softmax_cross_entropy_with_logits(labels=tf_train_labels, logits=logit)) \\\n",
    "            + 0.01*tf.nn.l2_loss(weights) + 0.01*tf.nn.l2_loss(hidden_weights) \n",
    "\n",
    "    # Optimizer.\n",
    "    optimizer = tf.train.GradientDescentOptimizer(0.1).minimize(loss)\n",
    "\n",
    "    # Predictions for the training, validation, and test data.\n",
    "    train_prediction = tf.nn.softmax(logit)\n",
    "    valid_prediction = tf.nn.softmax(tf.matmul(tf.nn.relu(tf.matmul(tf_valid_dataset, hidden_weights) + hidden_biases), weights) + biases)\n",
    "    test_prediction = tf.nn.softmax(tf.matmul(tf.nn.relu(tf.matmul(tf_test_dataset, hidden_weights) + hidden_biases), weights) + biases)\n",
    "\n",
    "    \n",
    "num_steps = 3001\n",
    "\n",
    "with tf.Session(graph=graph) as session:\n",
    "    tf.global_variables_initializer().run()\n",
    "    print(\"Initialized\")\n",
    "    for step in range(num_steps):\n",
    "        # Pick an offset within the training data, which has been randomized.\n",
    "        # Note: we could use better randomization across epochs.\n",
    "        offset = (step * batch_size) % (train_labels1.shape[0] - batch_size)\n",
    "\n",
    "        # Generate a minibatch.\n",
    "        batch_data = train_dataset1[offset:(offset + batch_size), :]\n",
    "        batch_labels = train_labels1[offset:(offset + batch_size), :]\n",
    "        \n",
    "        # Prepare a dictionary telling the session where to feed the minibatch.\n",
    "        # The key of the dictionary is the placeholder node of the graph to be fed,\n",
    "        # and the value is the numpy array to feed to it.\n",
    "        feed_dict = {tf_train_dataset: batch_data, tf_train_labels: batch_labels}\n",
    "        _, l, predictions = session.run([optimizer, loss, train_prediction], feed_dict=feed_dict)\n",
    "        \n",
    "        if (step % 500 == 0):\n",
    "            print(\"Minibatch loss at step %d: %f\" % (step, l))\n",
    "            print(\"Minibatch accuracy: %.1f%%\" % accuracy(predictions, batch_labels))\n",
    "            print(\"Validation accuracy: %.1f%%\" % accuracy(valid_prediction.eval(), valid_labels))\n",
    "    print(\"Test accuracy: %.1f%%\" % accuracy(test_prediction.eval(), test_labels))"
   ]
  },
  {
   "cell_type": "markdown",
   "metadata": {
    "colab_type": "text",
    "id": "ww3SCBUdlkRc"
   },
   "source": [
    "---\n",
    "Problem 3\n",
    "---------\n",
    "Introduce Dropout on the hidden layer of the neural network. Remember: Dropout should only be introduced during training, not evaluation, otherwise your evaluation results would be stochastic as well. TensorFlow provides `nn.dropout()` for that, but you have to make sure it's only inserted during training.\n",
    "\n",
    "What happens to our extreme overfitting case?\n",
    "\n",
    "---"
   ]
  },
  {
   "cell_type": "markdown",
   "metadata": {},
   "source": [
    "#### Normal case "
   ]
  },
  {
   "cell_type": "code",
   "execution_count": 11,
   "metadata": {},
   "outputs": [
    {
     "name": "stdout",
     "output_type": "stream",
     "text": [
      "Initialized\n",
      "Minibatch loss at step 0: 3592.912354\n",
      "Minibatch accuracy: 7.0%\n",
      "Validation accuracy: 27.6%\n",
      "Minibatch loss at step 500: 1157.946411\n",
      "Minibatch accuracy: 74.2%\n",
      "Validation accuracy: 83.2%\n",
      "Minibatch loss at step 1000: 419.793884\n",
      "Minibatch accuracy: 76.6%\n",
      "Validation accuracy: 83.8%\n",
      "Minibatch loss at step 1500: 154.126434\n",
      "Minibatch accuracy: 75.8%\n",
      "Validation accuracy: 84.1%\n",
      "Minibatch loss at step 2000: 56.937515\n",
      "Minibatch accuracy: 87.5%\n",
      "Validation accuracy: 84.8%\n",
      "Minibatch loss at step 2500: 21.496740\n",
      "Minibatch accuracy: 75.0%\n",
      "Validation accuracy: 84.9%\n",
      "Minibatch loss at step 3000: 8.338940\n",
      "Minibatch accuracy: 86.7%\n",
      "Validation accuracy: 84.2%\n",
      "Test accuracy: 90.2%\n"
     ]
    }
   ],
   "source": [
    "batch_size = 128\n",
    "hidden_layers_size = 1024\n",
    "\n",
    "graph = tf.Graph()\n",
    "with graph.as_default():\n",
    "    # Input data. For the training data, we use a placeholder that will be fed\n",
    "    # at run time with a training minibatch.\n",
    "    tf_train_dataset = tf.placeholder(tf.float32,\n",
    "                                      shape=(batch_size, image_size * image_size))\n",
    "    tf_train_labels = tf.placeholder(tf.float32, shape=(batch_size, num_labels))\n",
    "    tf_valid_dataset = tf.constant(valid_dataset)\n",
    "    tf_test_dataset = tf.constant(test_dataset)\n",
    "    \n",
    "    weights = tf.Variable(tf.truncated_normal([hidden_layers_size, num_labels]))\n",
    "    biases = tf.Variable(tf.zeros([num_labels]))\n",
    "    \n",
    "    hidden_weights = tf.Variable(tf.truncated_normal([image_size * image_size, hidden_layers_size]))\n",
    "    hidden_biases = tf.Variable(tf.truncated_normal([hidden_layers_size]))\n",
    "    \n",
    "    logit_hidden = tf.matmul(tf_train_dataset, hidden_weights) + hidden_biases\n",
    "    \n",
    "    logit = tf.matmul(tf.nn.dropout(tf.nn.relu(logit_hidden), 0.5), weights) + biases\n",
    "\n",
    "    # Training computation.\n",
    "    loss = tf.reduce_mean(\n",
    "        tf.nn.softmax_cross_entropy_with_logits(labels=tf_train_labels, logits=logit)) \\\n",
    "            + 0.01*tf.nn.l2_loss(weights) + 0.01*tf.nn.l2_loss(hidden_weights) \n",
    "\n",
    "    # Optimizer.\n",
    "    optimizer = tf.train.GradientDescentOptimizer(0.1).minimize(loss)\n",
    "\n",
    "    # Predictions for the training, validation, and test data.\n",
    "    train_prediction = tf.nn.softmax(logit)\n",
    "    valid_prediction = tf.nn.softmax(tf.matmul(tf.nn.relu(tf.matmul(tf_valid_dataset, hidden_weights) + hidden_biases), weights) + biases)\n",
    "    test_prediction = tf.nn.softmax(tf.matmul(tf.nn.relu(tf.matmul(tf_test_dataset, hidden_weights) + hidden_biases), weights) + biases)\n",
    "\n",
    "    \n",
    "num_steps = 3001\n",
    "\n",
    "with tf.Session(graph=graph) as session:\n",
    "    tf.global_variables_initializer().run()\n",
    "    print(\"Initialized\")\n",
    "    for step in range(num_steps):\n",
    "        # Pick an offset within the training data, which has been randomized.\n",
    "        # Note: we could use better randomization across epochs.\n",
    "        offset = (step * batch_size) % (train_labels.shape[0] - batch_size)\n",
    "        # Generate a minibatch.\n",
    "        batch_data = train_dataset[offset:(offset + batch_size), :]\n",
    "        batch_labels = train_labels[offset:(offset + batch_size), :]\n",
    "        \n",
    "        # Prepare a dictionary telling the session where to feed the minibatch.\n",
    "        # The key of the dictionary is the placeholder node of the graph to be fed,\n",
    "        # and the value is the numpy array to feed to it.\n",
    "        feed_dict = {tf_train_dataset: batch_data, tf_train_labels: batch_labels}\n",
    "        _, l, predictions = session.run([optimizer, loss, train_prediction], feed_dict=feed_dict)\n",
    "        \n",
    "        if (step % 500 == 0):\n",
    "            print(\"Minibatch loss at step %d: %f\" % (step, l))\n",
    "            print(\"Minibatch accuracy: %.1f%%\" % accuracy(predictions, batch_labels))\n",
    "            print(\"Validation accuracy: %.1f%%\" % accuracy(valid_prediction.eval(), valid_labels))\n",
    "    print(\"Test accuracy: %.1f%%\" % accuracy(test_prediction.eval(), test_labels))\n",
    "    "
   ]
  },
  {
   "cell_type": "markdown",
   "metadata": {},
   "source": [
    "#### Overfitting case "
   ]
  },
  {
   "cell_type": "code",
   "execution_count": 12,
   "metadata": {},
   "outputs": [
    {
     "name": "stdout",
     "output_type": "stream",
     "text": [
      "(200000, 784)\n",
      "(200000, 10)\n",
      "(256, 784)\n",
      "(200000, 10)\n",
      "Initialized\n",
      "Minibatch loss at step 0: 3649.061768\n",
      "Minibatch accuracy: 9.4%\n",
      "Validation accuracy: 23.0%\n",
      "Minibatch loss at step 500: 1155.654419\n",
      "Minibatch accuracy: 100.0%\n",
      "Validation accuracy: 63.2%\n",
      "Minibatch loss at step 1000: 424.931732\n",
      "Minibatch accuracy: 100.0%\n",
      "Validation accuracy: 63.7%\n",
      "Minibatch loss at step 1500: 156.265076\n",
      "Minibatch accuracy: 99.2%\n",
      "Validation accuracy: 63.7%\n",
      "Minibatch loss at step 2000: 57.469009\n",
      "Minibatch accuracy: 100.0%\n",
      "Validation accuracy: 64.4%\n",
      "Minibatch loss at step 2500: 21.174829\n",
      "Minibatch accuracy: 100.0%\n",
      "Validation accuracy: 67.6%\n",
      "Minibatch loss at step 3000: 7.880216\n",
      "Minibatch accuracy: 100.0%\n",
      "Validation accuracy: 69.9%\n",
      "Test accuracy: 76.5%\n"
     ]
    }
   ],
   "source": [
    "print(train_dataset.shape)\n",
    "print(train_labels.shape)\n",
    "train_dataset1 = train_dataset[:256, :]\n",
    "train_labels1 = train_labels[:256, :]\n",
    "print(train_dataset1.shape)\n",
    "print(train_labels.shape)\n",
    "\n",
    "\n",
    "batch_size = 128\n",
    "hidden_layers_size = 1024\n",
    "\n",
    "graph = tf.Graph()\n",
    "with graph.as_default():\n",
    "    # Input data. For the training data, we use a placeholder that will be fed\n",
    "    # at run time with a training minibatch.\n",
    "    tf_train_dataset = tf.placeholder(tf.float32,\n",
    "                                      shape=(batch_size, image_size * image_size))\n",
    "    tf_train_labels = tf.placeholder(tf.float32, shape=(batch_size, num_labels))\n",
    "    tf_valid_dataset = tf.constant(valid_dataset)\n",
    "    tf_test_dataset = tf.constant(test_dataset)\n",
    "    \n",
    "    weights = tf.Variable(tf.truncated_normal([hidden_layers_size, num_labels]))\n",
    "    biases = tf.Variable(tf.zeros([num_labels]))\n",
    "    \n",
    "    hidden_weights = tf.Variable(tf.truncated_normal([image_size * image_size, hidden_layers_size]))\n",
    "    hidden_biases = tf.Variable(tf.truncated_normal([hidden_layers_size]))\n",
    "    \n",
    "    logit_hidden = tf.matmul(tf_train_dataset, hidden_weights) + hidden_biases\n",
    "    \n",
    "    logit = tf.matmul(tf.nn.relu(tf.nn.dropout(logit_hidden, 0.8)), weights) + biases\n",
    "\n",
    "    # Training computation.\n",
    "    loss = tf.reduce_mean(\n",
    "        tf.nn.softmax_cross_entropy_with_logits(labels=tf_train_labels, logits=logit)) \\\n",
    "            + 0.01*tf.nn.l2_loss(weights) + 0.01*tf.nn.l2_loss(hidden_weights) \n",
    "\n",
    "    # Optimizer.\n",
    "    optimizer = tf.train.GradientDescentOptimizer(0.1).minimize(loss)\n",
    "\n",
    "    # Predictions for the training, validation, and test data.\n",
    "    train_prediction = tf.nn.softmax(logit)\n",
    "    valid_prediction = tf.nn.softmax(tf.matmul(tf.nn.relu(tf.matmul(tf_valid_dataset, hidden_weights) + hidden_biases), weights) + biases)\n",
    "    test_prediction = tf.nn.softmax(tf.matmul(tf.nn.relu(tf.matmul(tf_test_dataset, hidden_weights) + hidden_biases), weights) + biases)\n",
    "\n",
    "num_steps = 3001\n",
    "\n",
    "with tf.Session(graph=graph) as session:\n",
    "    tf.global_variables_initializer().run()\n",
    "    print(\"Initialized\")\n",
    "    for step in range(num_steps):\n",
    "        # Pick an offset within the training data, which has been randomized.\n",
    "        # Note: we could use better randomization across epochs.\n",
    "        offset = (step * batch_size) % (train_labels1.shape[0] - batch_size)\n",
    "\n",
    "        # Generate a minibatch.\n",
    "        batch_data = train_dataset1[offset:(offset + batch_size), :]\n",
    "        batch_labels = train_labels1[offset:(offset + batch_size), :]\n",
    "        \n",
    "        # Prepare a dictionary telling the session where to feed the minibatch.\n",
    "        # The key of the dictionary is the placeholder node of the graph to be fed,\n",
    "        # and the value is the numpy array to feed to it.\n",
    "        feed_dict = {tf_train_dataset: batch_data, tf_train_labels: batch_labels}\n",
    "        _, l, predictions = session.run([optimizer, loss, train_prediction], feed_dict=feed_dict)\n",
    "        \n",
    "        if (step % 500 == 0):\n",
    "            print(\"Minibatch loss at step %d: %f\" % (step, l))\n",
    "            print(\"Minibatch accuracy: %.1f%%\" % accuracy(predictions, batch_labels))\n",
    "            print(\"Validation accuracy: %.1f%%\" % accuracy(valid_prediction.eval(), valid_labels))\n",
    "    print(\"Test accuracy: %.1f%%\" % accuracy(test_prediction.eval(), test_labels))"
   ]
  },
  {
   "cell_type": "markdown",
   "metadata": {
    "colab_type": "text",
    "id": "-b1hTz3VWZjw"
   },
   "source": [
    "---\n",
    "Problem 4\n",
    "---------\n",
    "\n",
    "Try to get the best performance you can using a multi-layer model! The best reported test accuracy using a deep network is [97.1%](http://yaroslavvb.blogspot.com/2011/09/notmnist-dataset.html?showComment=1391023266211#c8758720086795711595).\n",
    "\n",
    "One avenue you can explore is to add multiple layers.\n",
    "\n",
    "Another one is to use learning rate decay:\n",
    "\n",
    "    global_step = tf.Variable(0)  # count the number of steps taken.\n",
    "    learning_rate = tf.train.exponential_decay(0.5, global_step, ...)\n",
    "    optimizer = tf.train.GradientDescentOptimizer(learning_rate).minimize(loss, global_step=global_step)\n",
    " \n",
    " ---\n"
   ]
  },
  {
   "cell_type": "code",
   "execution_count": 26,
   "metadata": {},
   "outputs": [
    {
     "name": "stdout",
     "output_type": "stream",
     "text": [
      "Test accuracy: 90.8%\n"
     ]
    }
   ],
   "source": [
    "import math \n",
    "\n",
    "batch_size = 128\n",
    "hidden_layers_size = 1024\n",
    "learning_starting_rate = 0.1\n",
    "learning_decay_steps = 100\n",
    "learning_decay_rate = 0.95\n",
    "beta = 1*10^-5\n",
    "keep_prob_dropouts=0.8\n",
    "\n",
    "graph = tf.Graph()\n",
    "with graph.as_default():\n",
    "    # Input data. For the training data, we use a placeholder that will be fed\n",
    "    # at run time with a training minibatch.\n",
    "    tf_train_dataset = tf.placeholder(tf.float32,\n",
    "                                      shape=(batch_size, image_size * image_size))\n",
    "    tf_train_labels = tf.placeholder(tf.float32, shape=(batch_size, num_labels))\n",
    "    tf_valid_dataset = tf.constant(valid_dataset)\n",
    "    tf_test_dataset = tf.constant(test_dataset)\n",
    "    \n",
    "    weights = tf.Variable(tf.truncated_normal([hidden_layers_size, num_labels]))\n",
    "#     weights = tf.Variable(tf.truncated_normal([hidden_layers_size, num_labels], stddev=1 / math.sqrt(float(image_size * image_size))))\n",
    "    biases = tf.Variable(tf.truncated_normal([num_labels]))\n",
    "    \n",
    "    hidden_weights = tf.Variable(tf.truncated_normal([image_size * image_size, hidden_layers_size]))\n",
    "    hidden_biases = tf.Variable(tf.truncated_normal([hidden_layers_size]))\n",
    "    \n",
    "    logit_hidden = tf.matmul(tf_train_dataset, hidden_weights) + hidden_biases\n",
    "    \n",
    "    logit = tf.matmul(tf.nn.dropout(tf.nn.relu(logit_hidden), keep_prob_dropouts), weights) + biases\n",
    "\n",
    "    # Training computation.\n",
    "    loss = tf.reduce_mean(\n",
    "        tf.nn.softmax_cross_entropy_with_logits(labels=tf_train_labels, logits=logit)) #\\\n",
    "            #+ beta*tf.nn.l2_loss(weights) + beta*tf.nn.l2_loss(hidden_weights) \n",
    "\n",
    "    # Optimizer.\n",
    "#     optimizer = tf.train.GradientDescentOptimizer(0.1).minimize(loss)\n",
    "    \n",
    "    global_step = tf.Variable(0)  # count the number of steps taken.\n",
    "    learning_rate = tf.train.exponential_decay(learning_starting_rate, global_step, learning_decay_steps, learning_decay_rate)\n",
    "    optimizer = tf.train.GradientDescentOptimizer(learning_rate).minimize(loss, global_step=global_step)\n",
    "\n",
    "    # Predictions for the training, validation, and test data.\n",
    "    train_prediction = tf.nn.softmax(logit)\n",
    "    valid_prediction = tf.nn.softmax(tf.matmul(tf.nn.relu(tf.matmul(tf_valid_dataset, hidden_weights) + hidden_biases), weights) + biases)\n",
    "    test_prediction = tf.nn.softmax(tf.matmul(tf.nn.relu(tf.matmul(tf_test_dataset, hidden_weights) + hidden_biases), weights) + biases)\n",
    "\n",
    "\n",
    "import matplotlib.pyplot as plt \n",
    "from IPython import display\n",
    "\n",
    "train_acc_history = []\n",
    "val_acc_history = []\n",
    "test_acc_history = []\n",
    "epochs_history = []\n",
    "\n",
    "num_steps = 3001\n",
    "\n",
    "with tf.Session(graph=graph) as session:\n",
    "    tf.global_variables_initializer().run()\n",
    "    print(\"Initialized\")\n",
    "    for step in range(num_steps):\n",
    "        # Pick an offset within the training data, which has been randomized.\n",
    "        # Note: we could use better randomization across epochs.\n",
    "        offset = (step * batch_size) % (train_labels.shape[0] - batch_size)\n",
    "        \n",
    "        # Generate a minibatch.\n",
    "        batch_data = train_dataset[offset:(offset + batch_size), :]\n",
    "        batch_labels = train_labels[offset:(offset + batch_size), :]\n",
    "        \n",
    "        # Prepare a dictionary telling the session where to feed the minibatch.\n",
    "        # The key of the dictionary is the placeholder node of the graph to be fed,\n",
    "        # and the value is the numpy array to feed to it.\n",
    "        feed_dict = {tf_train_dataset: batch_data, tf_train_labels: batch_labels }\n",
    "        _, l, predictions, lr = session.run([optimizer, loss, train_prediction, learning_rate], feed_dict=feed_dict)\n",
    "        \n",
    "        if (step % 500 == 0):\n",
    "            print(\"Offset: %d\" % offset )\n",
    "            print(\"Learning rate: %f\" % lr )            \n",
    "            print(\"Minibatch loss at step %d: %f\" % (step, l))\n",
    "            train_acc = accuracy(predictions, batch_labels)\n",
    "            print(\"Minibatch accuracy: %.1f%%\" % train_acc)\n",
    "            val_acc = accuracy(valid_prediction.eval(), valid_labels)\n",
    "            print(\"Validation accuracy: %.1f%%\" % val_acc)\n",
    "            test_acc = accuracy(test_prediction.eval(), test_labels)\n",
    "\n",
    "            display.clear_output(wait=True)            \n",
    "            epochs_history.append(step)\n",
    "            train_acc_history.append(train_acc)\n",
    "            val_acc_history.append(val_acc)\n",
    "            test_acc_history.append(test_acc)\n",
    "            \n",
    "            def generate_plot(x, ys): \n",
    "                for y in ys: \n",
    "                    plt.plot(epochs_history, train_acc_history, 'r', label='Training accuracy')\n",
    "                    plt.plot(epochs_history, val_acc_history, 'b', label='Validation accuracy')\n",
    "                    plt.plot(epochs_history, test_acc_history, 'g', label='Test accuracy')            \n",
    "                    plt.xlabel('Epochs')\n",
    "                    plt.ylabel('Accuracy')\n",
    "                    plt.legend()\n",
    "                display.display(plt.show())\n",
    "                     \n",
    "    print(\"Test accuracy: %.1f%%\" % accuracy(test_prediction.eval(), test_labels))\n"
   ]
  },
  {
   "cell_type": "markdown",
   "metadata": {},
   "source": [
    "#### Deeper network"
   ]
  },
  {
   "cell_type": "code",
   "execution_count": 27,
   "metadata": {},
   "outputs": [
    {
     "name": "stdout",
     "output_type": "stream",
     "text": [
      "Initialized\n",
      "Learning rate: 0.100000\n",
      "Minibatch loss at step 0: 10.811007\n",
      "Minibatch accuracy: 8.2%\n",
      "Validation accuracy: 27.1%\n"
     ]
    },
    {
     "data": {
      "image/png": "[encoded data removed]",
      "text/plain": [
       "<Figure size 432x288 with 1 Axes>"
      ]
     },
     "metadata": {
      "needs_background": "light"
     },
     "output_type": "display_data"
    },
    {
     "name": "stdout",
     "output_type": "stream",
     "text": [
      "Learning rate: 0.077378\n",
      "Minibatch loss at step 500: 0.543705\n",
      "Minibatch accuracy: 83.9%\n",
      "Validation accuracy: 83.7%\n"
     ]
    },
    {
     "data": {
      "image/png": "[encoded data removed]",
      "text/plain": [
       "<Figure size 432x288 with 1 Axes>"
      ]
     },
     "metadata": {
      "needs_background": "light"
     },
     "output_type": "display_data"
    },
    {
     "name": "stdout",
     "output_type": "stream",
     "text": [
      "Learning rate: 0.059874\n",
      "Minibatch loss at step 1000: 0.483246\n",
      "Minibatch accuracy: 84.5%\n",
      "Validation accuracy: 84.6%\n"
     ]
    },
    {
     "data": {
      "image/png": "[encoded data removed]",
      "text/plain": [
       "<Figure size 432x288 with 1 Axes>"
      ]
     },
     "metadata": {
      "needs_background": "light"
     },
     "output_type": "display_data"
    },
    {
     "name": "stdout",
     "output_type": "stream",
     "text": [
      "Learning rate: 0.046329\n",
      "Minibatch loss at step 1500: 0.437094\n",
      "Minibatch accuracy: 86.6%\n",
      "Validation accuracy: 85.3%\n"
     ]
    },
    {
     "data": {
      "image/png": "[encoded data removed]",
      "text/plain": [
       "<Figure size 432x288 with 1 Axes>"
      ]
     },
     "metadata": {
      "needs_background": "light"
     },
     "output_type": "display_data"
    },
    {
     "name": "stdout",
     "output_type": "stream",
     "text": [
      "Learning rate: 0.035849\n",
      "Minibatch loss at step 2000: 0.438473\n",
      "Minibatch accuracy: 87.3%\n",
      "Validation accuracy: 85.7%\n"
     ]
    },
    {
     "data": {
      "image/png": "[encoded data removed]",
      "text/plain": [
       "<Figure size 432x288 with 1 Axes>"
      ]
     },
     "metadata": {
      "needs_background": "light"
     },
     "output_type": "display_data"
    },
    {
     "name": "stdout",
     "output_type": "stream",
     "text": [
      "Learning rate: 0.027739\n",
      "Minibatch loss at step 2500: 0.440770\n",
      "Minibatch accuracy: 86.4%\n",
      "Validation accuracy: 86.0%\n"
     ]
    },
    {
     "data": {
      "image/png": "[encoded data removed]",
      "text/plain": [
       "<Figure size 432x288 with 1 Axes>"
      ]
     },
     "metadata": {
      "needs_background": "light"
     },
     "output_type": "display_data"
    },
    {
     "name": "stdout",
     "output_type": "stream",
     "text": [
      "Learning rate: 0.021464\n",
      "Minibatch loss at step 3000: 0.423219\n",
      "Minibatch accuracy: 88.2%\n",
      "Validation accuracy: 86.0%\n"
     ]
    },
    {
     "data": {
      "image/png": "[encoded data removed]",
      "text/plain": [
       "<Figure size 432x288 with 1 Axes>"
      ]
     },
     "metadata": {
      "needs_background": "light"
     },
     "output_type": "display_data"
    },
    {
     "name": "stdout",
     "output_type": "stream",
     "text": [
      "Test accuracy: 91.9%\n"
     ]
    }
   ],
   "source": [
    "batch_size = 1280\n",
    "hidden_layers_size = 1024\n",
    "\n",
    "learning_starting_rate = 0.1\n",
    "learning_decay_steps = 100\n",
    "learning_decay_rate = 0.95\n",
    "beta = 1*10^-5\n",
    "keep_prob_dropouts=0.8\n",
    "\n",
    "graph = tf.Graph()\n",
    "with graph.as_default():\n",
    "    # Input data. For the training data, we use a placeholder that will be fed\n",
    "    # at run time with a training minibatch.\n",
    "    tf_train_dataset = tf.placeholder(tf.float32,\n",
    "                                      shape=(batch_size, image_size * image_size))\n",
    "    tf_train_labels = tf.placeholder(tf.float32, shape=(batch_size, num_labels))\n",
    "    tf_valid_dataset = tf.constant(valid_dataset)\n",
    "    tf_test_dataset = tf.constant(test_dataset)\n",
    "    \n",
    "    input_weights = tf.Variable(tf.truncated_normal([image_size * image_size, batch_size], mean=0.0, stddev=0.1))\n",
    "    input_biases = tf.Variable(tf.truncated_normal([batch_size]))\n",
    "     \n",
    "    hidden_weights = tf.Variable(tf.truncated_normal([batch_size, hidden_layers_size], mean=0.0, stddev=0.1))\n",
    "    hidden_biases = tf.Variable(tf.truncated_normal([hidden_layers_size]))\n",
    "    \n",
    "    output_weights = tf.Variable(tf.truncated_normal([hidden_layers_size, num_labels], mean=0.0, stddev=0.1))\n",
    "    output_biases = tf.Variable(tf.truncated_normal([num_labels]))\n",
    "\n",
    "    \n",
    "    def network(input): \n",
    "        logit_input = tf.matmul(input, input_weights) + input_biases\n",
    "        logit_hidden = tf.matmul(tf.nn.dropout(tf.nn.relu(logit_input), keep_prob_dropouts), hidden_weights) + hidden_biases    \n",
    "        logit_output = tf.matmul(tf.nn.relu(logit_hidden), output_weights) + output_biases\n",
    "        \n",
    "        return logit_output #+ 0.01*tf.nn.l2_loss(input_weights) + 0.01*tf.nn.l2_loss(hidden_weights) \\\n",
    "                #+ 0.01*tf.nn.l2_loss(output_weights)\n",
    "\n",
    "    # Training computation.\n",
    "    predictions = network(tf_train_dataset)\n",
    "    loss = tf.reduce_mean(tf.nn.softmax_cross_entropy_with_logits(labels=tf_train_labels, logits=predictions))\n",
    "\n",
    "    # Optimizer.\n",
    "    global_step = tf.Variable(0)  # count the number of steps taken.\n",
    "    learning_rate = tf.train.exponential_decay(learning_starting_rate, global_step, learning_decay_steps, learning_decay_rate)\n",
    "    optimizer = tf.train.GradientDescentOptimizer(learning_rate).minimize(loss, global_step=global_step)\n",
    "\n",
    "\n",
    "    # Predictions for the training, validation, and test data.\n",
    "    train_prediction = tf.nn.softmax(predictions)\n",
    "    valid_prediction = tf.nn.softmax(network(tf_valid_dataset))\n",
    "    test_prediction = tf.nn.softmax(network(tf_test_dataset))\n",
    "\n",
    "\n",
    "import matplotlib.pyplot as plt \n",
    "from IPython import display\n",
    "\n",
    "train_acc_history = []\n",
    "val_acc_history = []\n",
    "test_acc_history = []\n",
    "epochs_history = []\n",
    "    \n",
    "num_steps = 3001\n",
    "\n",
    "with tf.Session(graph=graph) as session:\n",
    "    tf.global_variables_initializer().run()\n",
    "    print(\"Initialized\")\n",
    "    for step in range(num_steps):\n",
    "        # Pick an offset within the training data, which has been randomized.\n",
    "        # Note: we could use better randomization across epochs.\n",
    "        offset = (step * batch_size) % (train_labels.shape[0] - batch_size)\n",
    "        # Generate a minibatch.\n",
    "        batch_data = train_dataset[offset:(offset + batch_size), :]\n",
    "        batch_labels = train_labels[offset:(offset + batch_size), :]\n",
    "        \n",
    "        # Prepare a dictionary telling the session where to feed the minibatch.\n",
    "        # The key of the dictionary is the placeholder node of the graph to be fed,\n",
    "        # and the value is the numpy array to feed to it.\n",
    "        feed_dict = {tf_train_dataset: batch_data, tf_train_labels: batch_labels}\n",
    "        _, l, predictions, lr = session.run([optimizer, loss, train_prediction, learning_rate], feed_dict=feed_dict)\n",
    "        \n",
    "        if (step % 500 == 0):\n",
    "            print(\"Learning rate: %f\" % lr )       \n",
    "            print(\"Minibatch loss at step %d: %f\" % (step, l))\n",
    "            train_acc = accuracy(predictions, batch_labels)\n",
    "            print(\"Minibatch accuracy: %.1f%%\" % train_acc)\n",
    "            val_acc = accuracy(valid_prediction.eval(), valid_labels)\n",
    "            print(\"Validation accuracy: %.1f%%\" % val_acc)\n",
    "            test_acc = accuracy(test_prediction.eval(), test_labels)\n",
    "            \n",
    "            \n",
    "            #display.clear_output(wait=True)            \n",
    "            epochs_history.append(step)\n",
    "            train_acc_history.append(train_acc)\n",
    "            val_acc_history.append(val_acc)\n",
    "            test_acc_history.append(test_acc)\n",
    "            \n",
    "\n",
    "            plt.plot(epochs_history, train_acc_history, 'r', label='Training accuracy')\n",
    "            plt.plot(epochs_history, val_acc_history, 'b', label='Validation accuracy')\n",
    "            plt.plot(epochs_history, test_acc_history, 'g', label='Test accuracy')            \n",
    "            plt.xlabel('Epochs')\n",
    "            plt.ylabel('Accuracy')\n",
    "            plt.legend()\n",
    "            \n",
    "            plt.show()\n",
    "            #display.display(plt.show())\n",
    "\n",
    "    print(\"Test accuracy: %.1f%%\" % accuracy(test_prediction.eval(), test_labels))\n",
    "\n",
    "    "
   ]
  },
  {
   "cell_type": "code",
   "execution_count": null,
   "metadata": {},
   "outputs": [],
   "source": []
  }
 ],
 "metadata": {
  "colab": {
   "default_view": {},
   "name": "3_regularization.ipynb",
   "provenance": [],
   "version": "0.3.2",
   "views": {}
  },
  "kernelspec": {
   "display_name": "Python 3",
   "language": "python",
   "name": "python3"
  },
  "language_info": {
   "codemirror_mode": {
    "name": "ipython",
    "version": 3
   },
   "file_extension": ".py",
   "mimetype": "text/x-python",
   "name": "python",
   "nbconvert_exporter": "python",
   "pygments_lexer": "ipython3",
   "version": "3.6.8"
  }
 },
 "nbformat": 4,
 "nbformat_minor": 2
}
